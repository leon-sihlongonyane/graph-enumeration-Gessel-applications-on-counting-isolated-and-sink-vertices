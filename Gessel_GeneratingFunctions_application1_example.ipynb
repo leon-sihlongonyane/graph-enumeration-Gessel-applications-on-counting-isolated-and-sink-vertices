{
 "cells": [
  {
   "cell_type": "markdown",
   "id": "dominican-haiti",
   "metadata": {},
   "source": [
    "### Counting DAGs on $[n]$ by isolated nodes, no sink, and no source"
   ]
  },
  {
   "cell_type": "code",
   "execution_count": 29,
   "id": "statewide-appointment",
   "metadata": {},
   "outputs": [],
   "source": [
    "import numpy as np  \n",
    "from sympy import Function, rsolve"
   ]
  },
  {
   "cell_type": "code",
   "execution_count": 30,
   "id": "forbidden-toddler",
   "metadata": {},
   "outputs": [],
   "source": [
    "def Cn(order):\n",
    "    import numpy as np  \n",
    "    from sympy import Function, rsolve\n",
    "    var('u')\n",
    "    var('x')\n",
    "    var('v')\n",
    "    n=order #up to order n\n",
    "#============================================================================================\n",
    "    # exponential term, e^((u-1)x)\n",
    "    v=(u-1)*x\n",
    "    ff=exp(v)\n",
    "    f=ff.simplify_full()\n",
    "    e=f.taylor(x,0,n)\n",
    "    e; #Display exponential expansion\n",
    "#============================================================================================\n",
    "    # DAGs counting sequence, a_n\n",
    "    def sDAG(node):\n",
    "        if(node == 0):\n",
    "            result = 1\n",
    "        elif(node == 1):\n",
    "            result = 1\n",
    "        else:\n",
    "            result = add(2^(k*(node-k))*pow(-1,k+1)*binomial(node,k) *sDAG(node-k) for k in [1..node])\n",
    "        return result\n",
    "    # Generating function of a_n\n",
    "    gf=add(sDAG(t)*((x^t)/factorial(t)) for t in [0..n])\n",
    "    gf; #Display generating function expansion \n",
    "#============================================================================================\n",
    "    #RHS of Equation 4.4.4\n",
    "    rhs=e*gf\n",
    "    prod=rhs.simplify_full()\n",
    "    #Display product of exponent and generating function\n",
    "    L=prod.coefficients(x)\n",
    "    coeffs={c[1]:c[0]*factorial(c[1]) for c in L}\n",
    "    return coeffs[order]"
   ]
  },
  {
   "cell_type": "code",
   "execution_count": 31,
   "id": "confidential-harvard",
   "metadata": {},
   "outputs": [
    {
     "data": {
      "text/plain": [
       "u^10 + 90*u^8 + 2160*u^7 + 96180*u^6 + 6751080*u^5 + 758835420*u^4 + 133548654960*u^3 + 34861336841610*u^2 + 12064298159090700*u + 4162999682620325942"
      ]
     },
     "execution_count": 31,
     "metadata": {},
     "output_type": "execute_result"
    }
   ],
   "source": [
    "Cn(10) #coefficient of order 10"
   ]
  },
  {
   "cell_type": "markdown",
   "id": "rolled-specific",
   "metadata": {},
   "source": [
    "### Number of DAGs on $[n]$ with number of isolated nodes"
   ]
  },
  {
   "cell_type": "code",
   "execution_count": 32,
   "id": "mature-dominican",
   "metadata": {},
   "outputs": [],
   "source": [
    "def nIsolatedDAGS(order_num,isolated_num):\n",
    "    \"\"\"\n",
    "    Calculate DAGs of order n with number of isolated vertices\n",
    "    \"\"\"\n",
    "    if isolated_num ==9:\n",
    "        res=0\n",
    "    else:\n",
    "        a=Cn(order_num)\n",
    "        M=a.coefficients()\n",
    "        coeff2={s[1]:s[0] for s in M}\n",
    "        res=coeff2[isolated_num]\n",
    "    return res\n",
    "    \n",
    "    #a=Cn(order_num)\n",
    "    #M=a.coefficients()\n",
    "    #coeff2={s[1]:s[0] for s in M}\n",
    "    #return coeff2[isolated_num]"
   ]
  },
  {
   "cell_type": "code",
   "execution_count": 34,
   "id": "tough-learning",
   "metadata": {},
   "outputs": [
    {
     "data": {
      "text/plain": [
       "758835420"
      ]
     },
     "execution_count": 34,
     "metadata": {},
     "output_type": "execute_result"
    }
   ],
   "source": [
    "nIsolatedDAGS(10,4)  #number of DAGs over [10] with 4 isolated vertices "
   ]
  },
  {
   "cell_type": "code",
   "execution_count": 35,
   "id": "touched-strategy",
   "metadata": {},
   "outputs": [
    {
     "data": {
      "text/plain": [
       "[4162999682620325942,\n",
       " 12064298159090700,\n",
       " 34861336841610,\n",
       " 133548654960,\n",
       " 758835420,\n",
       " 6751080,\n",
       " 96180,\n",
       " 2160,\n",
       " 90,\n",
       " 0,\n",
       " 1]"
      ]
     },
     "execution_count": 35,
     "metadata": {},
     "output_type": "execute_result"
    }
   ],
   "source": [
    "list_isolated=lambda node:[nIsolatedDAGS(10,k) for k in [0..node]] \n",
    "#List of number of DAGs on [10] with constraint k isolated nodes\n",
    "lim=10\n",
    "list_isolated(lim) #upto 10 isolated nodes"
   ]
  },
  {
   "cell_type": "code",
   "execution_count": 36,
   "id": "funky-supervision",
   "metadata": {},
   "outputs": [
    {
     "data": {
      "text/plain": [
       "0.0029063800922877374"
      ]
     },
     "execution_count": 36,
     "metadata": {},
     "output_type": "execute_result"
    }
   ],
   "source": [
    "#average number of DAGS over [10] with isolated nodes\n",
    "average=lambda lim:float(sum([i*list_isolated(lim)[i] for i in [0..lim-1]])/sum(list_isolated(lim)))\n",
    "upto=10\n",
    "average(upto)"
   ]
  },
  {
   "cell_type": "code",
   "execution_count": 26,
   "id": "reduced-bumper",
   "metadata": {},
   "outputs": [],
   "source": [
    "#===============================END================================================#"
   ]
  },
  {
   "cell_type": "code",
   "execution_count": null,
   "id": "honest-recall",
   "metadata": {},
   "outputs": [],
   "source": []
  }
 ],
 "metadata": {
  "kernelspec": {
   "display_name": "SageMath 9.2",
   "language": "sage",
   "name": "sagemath"
  },
  "language_info": {
   "codemirror_mode": {
    "name": "ipython",
    "version": 3
   },
   "file_extension": ".py",
   "mimetype": "text/x-python",
   "name": "python",
   "nbconvert_exporter": "python",
   "pygments_lexer": "ipython3",
   "version": "3.9.2"
  }
 },
 "nbformat": 4,
 "nbformat_minor": 5
}
