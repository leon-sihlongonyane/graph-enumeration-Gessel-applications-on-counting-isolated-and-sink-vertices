{
 "cells": [
  {
   "cell_type": "code",
   "execution_count": 108,
   "id": "inclusive-invitation",
   "metadata": {},
   "outputs": [],
   "source": [
    "def Bn(order):\n",
    "    \"\"\"\n",
    "    Number of DAGs over order n with k sinks\n",
    "    \"\"\"\n",
    "    import numpy as np  \n",
    "    from sympy import Function, rsolve\n",
    "    var('u')\n",
    "    y=1\n",
    "    n=order #up to order n\n",
    "#============================================================================================\n",
    "    N=lambda num:add(pow(u-1,z)*((x^z)/(((1+y)^binomial(z,2))*factorial(z))) for z in [0..num])\n",
    "    D=lambda num:add(pow(-1,z)*((x^z)/(((1+y)^binomial(z,2))*factorial(z))) for z in [0..num])\n",
    "    G=N(n)/D(n)\n",
    "    gf=G.taylor(x,0,n)\n",
    "    GF=gf.simplify_full()\n",
    "    L=GF.coefficients(x)\n",
    "    coeffs={c[1]:c[0]*((1+y)^binomial(c[1],2))*factorial(c[1]) for c in L}\n",
    "    return coeffs[order].simplify_full()"
   ]
  },
  {
   "cell_type": "code",
   "execution_count": 127,
   "id": "stretch-hebrew",
   "metadata": {},
   "outputs": [
    {
     "data": {
      "text/html": [
       "<html><script type=\"math/tex; mode=display\">\\newcommand{\\Bold}[1]{\\mathbf{#1}}u^{10} + 5110 \\, u^{9} + 8801325 \\, u^{8} + 6220861320 \\, u^{7} + 1869313044690 \\, u^{6} + 236244835620612 \\, u^{5} + 12113567232829650 \\, u^{4} + 235728863806525320 \\, u^{3} + 1528973599758889005 \\, u^{2} + 2398044825254021110 \\, u</script></html>"
      ],
      "text/latex": [
       "\\begin{math}\n",
       "\\newcommand{\\Bold}[1]{\\mathbf{#1}}u^{10} + 5110 \\, u^{9} + 8801325 \\, u^{8} + 6220861320 \\, u^{7} + 1869313044690 \\, u^{6} + 236244835620612 \\, u^{5} + 12113567232829650 \\, u^{4} + 235728863806525320 \\, u^{3} + 1528973599758889005 \\, u^{2} + 2398044825254021110 \\, u\n",
       "\\end{math}"
      ],
      "text/plain": [
       "u^10 + 5110*u^9 + 8801325*u^8 + 6220861320*u^7 + 1869313044690*u^6 + 236244835620612*u^5 + 12113567232829650*u^4 + 235728863806525320*u^3 + 1528973599758889005*u^2 + 2398044825254021110*u"
      ]
     },
     "metadata": {},
     "output_type": "display_data"
    }
   ],
   "source": [
    "poly_n=lambda n:Bn(n) #generating poylnomial for B_{n} of order n.\n",
    "show(poly_n(10))  #B_{10} with 1 sink vertices"
   ]
  },
  {
   "cell_type": "code",
   "execution_count": 128,
   "id": "protecting-essence",
   "metadata": {},
   "outputs": [],
   "source": [
    "def nsinksDAGS(order_num,sinks_num):\n",
    "    \"\"\"\n",
    "    Calculate DAGs of order n with number of sink vertices\n",
    "    \"\"\"\n",
    "    if order_num ==0:\n",
    "        res=1\n",
    "    else:\n",
    "        a=Bn(order_num)\n",
    "        M=a.coefficients()\n",
    "        coeff2={s[1]:s[0] for s in M}\n",
    "        res=coeff2[sinks_num]\n",
    "    return res"
   ]
  },
  {
   "cell_type": "code",
   "execution_count": 129,
   "id": "frozen-premium",
   "metadata": {},
   "outputs": [
    {
     "data": {
      "text/plain": [
       "[1,\n",
       " 1,\n",
       " 2,\n",
       " 15,\n",
       " 316,\n",
       " 16885,\n",
       " 2174586,\n",
       " 654313415,\n",
       " 450179768312,\n",
       " 696979588034313,\n",
       " 2398044825254021110]"
      ]
     },
     "execution_count": 129,
     "metadata": {},
     "output_type": "execute_result"
    }
   ],
   "source": [
    "list_1sink=lambda node:sorted([nsinksDAGS(k,1) for k in [0..node]]) \n",
    "#List of number of DAGs on [n] with constraint on 1 sink, also isolated nodes included as sinks\n",
    "lim=10\n",
    "list_1sink(lim) #upto 10 nodes"
   ]
  },
  {
   "cell_type": "code",
   "execution_count": 130,
   "id": "tropical-frank",
   "metadata": {},
   "outputs": [
    {
     "data": {
      "text/plain": [
       "0.002616547196317094"
      ]
     },
     "execution_count": 130,
     "metadata": {},
     "output_type": "execute_result"
    }
   ],
   "source": [
    "#average number of DAGS with 1 sink nodes\n",
    "average=lambda lim:float(sum([j*list_1sink(lim)[j] for j in [0..lim-1]])/sum(list_1sink(lim)))\n",
    "upto=10\n",
    "average(upto)"
   ]
  },
  {
   "cell_type": "code",
   "execution_count": null,
   "id": "excess-carpet",
   "metadata": {},
   "outputs": [],
   "source": [
    "#====================================END==========================================#"
   ]
  }
 ],
 "metadata": {
  "kernelspec": {
   "display_name": "SageMath 9.2",
   "language": "sage",
   "name": "sagemath"
  },
  "language_info": {
   "codemirror_mode": {
    "name": "ipython",
    "version": 3
   },
   "file_extension": ".py",
   "mimetype": "text/x-python",
   "name": "python",
   "nbconvert_exporter": "python",
   "pygments_lexer": "ipython3",
   "version": "3.9.2"
  }
 },
 "nbformat": 4,
 "nbformat_minor": 5
}
